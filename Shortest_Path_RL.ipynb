{
  "nbformat": 4,
  "nbformat_minor": 0,
  "metadata": {
    "colab": {
      "name": "Shortest Path - RL",
      "version": "0.3.2",
      "provenance": [],
      "include_colab_link": true
    },
    "kernelspec": {
      "name": "python3",
      "display_name": "Python 3"
    }
  },
  "cells": [
    {
      "cell_type": "markdown",
      "metadata": {
        "id": "view-in-github",
        "colab_type": "text"
      },
      "source": [
        "<a href=\"https://colab.research.google.com/github/hanutm/Reinforcement-Learning/blob/master/Shortest_Path_RL.ipynb\" target=\"_parent\"><img src=\"https://colab.research.google.com/assets/colab-badge.svg\" alt=\"Open In Colab\"/></a>"
      ]
    },
    {
      "metadata": {
        "id": "IduVarzRjSn-",
        "colab_type": "code",
        "colab": {}
      },
      "cell_type": "code",
      "source": [
        "import numpy as np\n",
        "import pylab as plt\n",
        "import networkx as nx\n",
        "import pandas as pd"
      ],
      "execution_count": 0,
      "outputs": []
    },
    {
      "metadata": {
        "id": "7bzf46O-j3Db",
        "colab_type": "code",
        "colab": {}
      },
      "cell_type": "code",
      "source": [
        "edge_list = [(0,2),(0,1),(0,3),(2,4),(5,6),(7,4),(0,6),(5,3),(3,7),(0,8),(3,4)]"
      ],
      "execution_count": 0,
      "outputs": []
    },
    {
      "metadata": {
        "id": "F1jiK_VwlH6N",
        "colab_type": "code",
        "colab": {}
      },
      "cell_type": "code",
      "source": [
        "goal = 7"
      ],
      "execution_count": 0,
      "outputs": []
    },
    {
      "metadata": {
        "id": "d4jqFHbJlH2_",
        "colab_type": "code",
        "colab": {}
      },
      "cell_type": "code",
      "source": [
        "G = nx.Graph()\n",
        "G.add_edges_from(edge_list)"
      ],
      "execution_count": 0,
      "outputs": []
    },
    {
      "metadata": {
        "id": "tWtKqtealHzy",
        "colab_type": "code",
        "colab": {}
      },
      "cell_type": "code",
      "source": [
        "position = nx.spring_layout(G)"
      ],
      "execution_count": 0,
      "outputs": []
    },
    {
      "metadata": {
        "id": "zGZaGC0OlHwl",
        "colab_type": "code",
        "colab": {}
      },
      "cell_type": "code",
      "source": [
        "nx.draw_networkx_nodes(G,position)\n",
        "nx.draw_networkx_edges(G,position)\n",
        "nx.draw_networkx_labels(G,position)\n",
        "plt.show()"
      ],
      "execution_count": 0,
      "outputs": []
    },
    {
      "metadata": {
        "id": "QtGAYoipnNIt",
        "colab_type": "code",
        "colab": {}
      },
      "cell_type": "code",
      "source": [
        "#### Add Reward/ Q value matrices\n",
        "size = 9\n",
        "\n",
        "R = np.ones((size,size))\n",
        "R *= -1\n",
        "for i,j in edge_list:\n",
        "  R[i,j]=0\n",
        "  if i == goal or j == goal:\n",
        "    R[i,j] = 100\n",
        "R[goal,goal] = 100\n",
        "\n",
        "\n",
        "Q = np.zeros((size,size))\n"
      ],
      "execution_count": 0,
      "outputs": []
    },
    {
      "metadata": {
        "id": "Z5Ap9Rtcw8XL",
        "colab_type": "text"
      },
      "cell_type": "markdown",
      "source": [
        "Functions to include,\n",
        "\n",
        "\n",
        "\n",
        "*   Find available actions; select specific action to perform\n",
        "*   Update Q values\n",
        "\n"
      ]
    },
    {
      "metadata": {
        "id": "v9ykULGAxsh0",
        "colab_type": "text"
      },
      "cell_type": "markdown",
      "source": [
        "Find actions on the basis of the current state.\n",
        "Actions possible only to states which have a reward >=0"
      ]
    },
    {
      "metadata": {
        "id": "peLR80E7w5y0",
        "colab_type": "code",
        "colab": {}
      },
      "cell_type": "code",
      "source": [
        "def findActions(state):\n",
        "  validActions = np.where(R[:,state] >= 0)[0]\n",
        "  return validActions"
      ],
      "execution_count": 0,
      "outputs": []
    },
    {
      "metadata": {
        "id": "FroaZfs7x5Hb",
        "colab_type": "code",
        "colab": {
          "base_uri": "https://localhost:8080/",
          "height": 34
        },
        "outputId": "5b76cf5b-1e9c-48ba-8511-f5a766f7ab5a"
      },
      "cell_type": "code",
      "source": [
        ""
      ],
      "execution_count": 37,
      "outputs": [
        {
          "output_type": "execute_result",
          "data": {
            "text/plain": [
              "2"
            ]
          },
          "metadata": {
            "tags": []
          },
          "execution_count": 37
        }
      ]
    }
  ]
}