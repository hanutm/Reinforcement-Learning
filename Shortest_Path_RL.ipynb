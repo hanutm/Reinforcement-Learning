{
  "nbformat": 4,
  "nbformat_minor": 0,
  "metadata": {
    "colab": {
      "name": "Shortest Path - RL",
      "version": "0.3.2",
      "provenance": [],
      "collapsed_sections": [],
      "include_colab_link": true
    },
    "kernelspec": {
      "name": "python3",
      "display_name": "Python 3"
    }
  },
  "cells": [
    {
      "cell_type": "markdown",
      "metadata": {
        "id": "view-in-github",
        "colab_type": "text"
      },
      "source": [
        "<a href=\"https://colab.research.google.com/github/hanutm/Reinforcement-Learning/blob/master/Shortest_Path_RL.ipynb\" target=\"_parent\"><img src=\"https://colab.research.google.com/assets/colab-badge.svg\" alt=\"Open In Colab\"/></a>"
      ]
    },
    {
      "metadata": {
        "id": "IduVarzRjSn-",
        "colab_type": "code",
        "colab": {}
      },
      "cell_type": "code",
      "source": [
        "import numpy as np\n",
        "import pylab as plt\n",
        "import networkx as nx\n",
        "import pandas as pd\n",
        "import random\n",
        "\n",
        "import time    ### to check time complexity of functions"
      ],
      "execution_count": 0,
      "outputs": []
    },
    {
      "metadata": {
        "id": "HNAHdOYQ_qwl",
        "colab_type": "text"
      },
      "cell_type": "markdown",
      "source": [
        "Create a network (path) to apply the shortest path problem.\n",
        "It is further visualized using networkx library."
      ]
    },
    {
      "metadata": {
        "id": "7bzf46O-j3Db",
        "colab_type": "code",
        "colab": {}
      },
      "cell_type": "code",
      "source": [
        "edge_list = [(0,2),(0,1),(0,3),(2,4),(5,6),(7,4),(0,6),(5,3),(3,7),(0,8)]"
      ],
      "execution_count": 0,
      "outputs": []
    },
    {
      "metadata": {
        "id": "F1jiK_VwlH6N",
        "colab_type": "code",
        "colab": {}
      },
      "cell_type": "code",
      "source": [
        "goal = 7\n",
        "gamma = 0.8"
      ],
      "execution_count": 0,
      "outputs": []
    },
    {
      "metadata": {
        "id": "d4jqFHbJlH2_",
        "colab_type": "code",
        "colab": {}
      },
      "cell_type": "code",
      "source": [
        "G = nx.Graph()\n",
        "G.add_edges_from(edge_list)"
      ],
      "execution_count": 0,
      "outputs": []
    },
    {
      "metadata": {
        "id": "tWtKqtealHzy",
        "colab_type": "code",
        "colab": {}
      },
      "cell_type": "code",
      "source": [
        "position = nx.spring_layout(G)"
      ],
      "execution_count": 0,
      "outputs": []
    },
    {
      "metadata": {
        "id": "zGZaGC0OlHwl",
        "colab_type": "code",
        "outputId": "fa0c005e-d3da-471b-a35e-22beef4cda99",
        "colab": {
          "base_uri": "https://localhost:8080/",
          "height": 381
        }
      },
      "cell_type": "code",
      "source": [
        "nx.draw_networkx_nodes(G,position)\n",
        "nx.draw_networkx_edges(G,position)\n",
        "nx.draw_networkx_labels(G,position)\n",
        "plt.show()"
      ],
      "execution_count": 0,
      "outputs": [
        {
          "output_type": "stream",
          "text": [
            "/usr/local/lib/python3.6/dist-packages/networkx/drawing/nx_pylab.py:611: MatplotlibDeprecationWarning: isinstance(..., numbers.Number)\n",
            "  if cb.is_numlike(alpha):\n"
          ],
          "name": "stderr"
        },
        {
          "output_type": "display_data",
          "data": {
            "image/png": "[encoded data removed]",
            "text/plain": [
              "<Figure size 576x396 with 1 Axes>"
            ]
          },
          "metadata": {
            "tags": []
          }
        }
      ]
    },
    {
      "metadata": {
        "id": "QtGAYoipnNIt",
        "colab_type": "code",
        "outputId": "7890e483-8968-40a0-abbe-58bdd6e10af6",
        "colab": {
          "base_uri": "https://localhost:8080/",
          "height": 170
        }
      },
      "cell_type": "code",
      "source": [
        "#### Add Reward/ Q value matrices\n",
        "size = 9\n",
        "\n",
        "R = np.ones((size,size))\n",
        "R *= -1\n",
        "for i,j in edge_list:\n",
        "  R[i,j]=0\n",
        "  R[j,i]=0\n",
        "  if i == goal:                       #### Since a path (7 -> 4) defines another path (4 -> 7)\n",
        "    R[j,i] = 100                      #### But only path (4 -> 7) results in a successful completion and 100 reward\n",
        "  if j == goal:\n",
        "    R[i,j] = 100\n",
        "R[goal,goal] = 100\n",
        "\n",
        "\n",
        "Q = np.zeros((size,size))"
      ],
      "execution_count": 176,
      "outputs": [
        {
          "output_type": "execute_result",
          "data": {
            "text/plain": [
              "array([[0., 0., 0., 0., 0., 0., 0., 0., 0.],\n",
              "       [0., 0., 0., 0., 0., 0., 0., 0., 0.],\n",
              "       [0., 0., 0., 0., 0., 0., 0., 0., 0.],\n",
              "       [0., 0., 0., 0., 0., 0., 0., 0., 0.],\n",
              "       [0., 0., 0., 0., 0., 0., 0., 0., 0.],\n",
              "       [0., 0., 0., 0., 0., 0., 0., 0., 0.],\n",
              "       [0., 0., 0., 0., 0., 0., 0., 0., 0.],\n",
              "       [0., 0., 0., 0., 0., 0., 0., 0., 0.],\n",
              "       [0., 0., 0., 0., 0., 0., 0., 0., 0.]])"
            ]
          },
          "metadata": {
            "tags": []
          },
          "execution_count": 176
        }
      ]
    },
    {
      "metadata": {
        "id": "Z5Ap9Rtcw8XL",
        "colab_type": "text"
      },
      "cell_type": "markdown",
      "source": [
        "Functions to include,\n",
        "\n",
        "\n",
        "\n",
        "*   Find available actions; select specific action to perform\n",
        "*   Update Q values\n",
        "\n"
      ]
    },
    {
      "metadata": {
        "id": "v9ykULGAxsh0",
        "colab_type": "text"
      },
      "cell_type": "markdown",
      "source": [
        "Find actions on the basis of the current state.\n",
        "Actions possible only to states which have a reward >=0"
      ]
    },
    {
      "metadata": {
        "id": "peLR80E7w5y0",
        "colab_type": "code",
        "colab": {}
      },
      "cell_type": "code",
      "source": [
        "def findActions(state):\n",
        "  validActions = np.where(R[state,] >= 0)[0]\n",
        "  return validActions"
      ],
      "execution_count": 0,
      "outputs": []
    },
    {
      "metadata": {
        "id": "FroaZfs7x5Hb",
        "colab_type": "code",
        "colab": {}
      },
      "cell_type": "code",
      "source": [
        "def selectAction(Actions):\n",
        "  \n",
        "  ### The function picks a random action from a list of possible actions to encourage exploration\n",
        "  \n",
        "  random.seed(random.randint(0,1000))         #### Including a random seed to increase randomness in the selection process\n",
        "  \n",
        "  return(int(random.choice(Actions)))"
      ],
      "execution_count": 0,
      "outputs": []
    },
    {
      "metadata": {
        "id": "CKI9aGmiAhB3",
        "colab_type": "code",
        "colab": {}
      },
      "cell_type": "code",
      "source": [
        "def updateQvals(current_state, action, gamma):\n",
        "  #### Function to update Q values while exploring ####\n",
        "  \n",
        "  #### First get predicted state based on Q value of selected action ####\n",
        "  #### Action here is going to the next state (5 -> 6) or (5 -> 3) ####\n",
        "  maxQstate = np.where(Q[action,] == np.max(Q[action,]))[0]  #### Next state with the highest Q value\n",
        "                                                             #### Mapping rows to columns\n",
        "  if (len(maxQstate)>1):\n",
        "    maxQstate = random.choice(maxQstate)\n",
        "  \n",
        "  maxQstate = int(maxQstate)  \n",
        "  maxQstate_value = Q[action,maxQstate]\n",
        "  print(\"Index at max Q : \", maxQstate)\n",
        "  print(\"Max Q value at next state : \", maxQstate_value)\n",
        "  #### Calculate new Q value for state - action pair ####\n",
        "  Q[current_state,action] = R[current_state, action] + gamma * maxQstate_value\n",
        "  \n",
        "  print(\"New Q value at current s-a pair : \", Q[current_state,action])"
      ],
      "execution_count": 0,
      "outputs": []
    },
    {
      "metadata": {
        "id": "vU0LBJ5kRUR8",
        "colab_type": "text"
      },
      "cell_type": "markdown",
      "source": [
        "First part of the block above calculates the best case scenario (best Q value) in the next state when the **current action** (which becomes the **current_state** for the next step) is performed.\n",
        "\n",
        "The second part takes the Q value for the current state-action pair, and and updates it while scaling down the reward by a discount factor *gamma*."
      ]
    },
    {
      "metadata": {
        "id": "KjnH8cjtApj9",
        "colab_type": "code",
        "outputId": "e08d2905-9148-4a43-e5ef-687669002858",
        "colab": {
          "base_uri": "https://localhost:8080/",
          "height": 85
        }
      },
      "cell_type": "code",
      "source": [
        "#### test with sample initial values ####\n",
        "\n",
        "init_state = 4\n",
        "action = selectAction(findActions(init_state))\n",
        "print(action)\n",
        "updateQvals(init_state, action, gamma)\n"
      ],
      "execution_count": 177,
      "outputs": [
        {
          "output_type": "stream",
          "text": [
            "2\n",
            "Index at max Q :  5\n",
            "Max Q value at next state :  0.0\n",
            "New Q value at current s-a pair :  0.0\n"
          ],
          "name": "stdout"
        }
      ]
    },
    {
      "metadata": {
        "id": "4pMM-KIS5XPW",
        "colab_type": "code",
        "colab": {}
      },
      "cell_type": "code",
      "source": [
        "#### Learning loop ####\n",
        "\n",
        "for i in range(500):\n",
        "  start_state = random.randint(0,(len(Q)-1))\n",
        "  \n",
        "  possible_actions = findActions(start_state)\n",
        "  curr_action = selectAction(possible_actions)\n",
        "  \n",
        "  updateQvals(start_state, curr_action, gamma)"
      ],
      "execution_count": 0,
      "outputs": []
    },
    {
      "metadata": {
        "id": "EbfP7IB1ZXT4",
        "colab_type": "code",
        "colab": {
          "base_uri": "https://localhost:8080/",
          "height": 34
        },
        "outputId": "956bcff6-5e05-4242-cccd-77c2a270d79e"
      },
      "cell_type": "code",
      "source": [
        "### To normalize the resultant Q matrix\n",
        "\n",
        "print(\"New Q : \")\n",
        "Q = Q/np.max(Q)*100\n",
        "print(Q)"
      ],
      "execution_count": 183,
      "outputs": [
        {
          "output_type": "stream",
          "text": [
            "New Q : \n"
          ],
          "name": "stdout"
        }
      ]
    },
    {
      "metadata": {
        "id": "ywX1dAuxfR_m",
        "colab_type": "text"
      },
      "cell_type": "markdown",
      "source": [
        "Test the trained values for actual navigation."
      ]
    },
    {
      "metadata": {
        "id": "ErWUWQa0fY7j",
        "colab_type": "code",
        "colab": {
          "base_uri": "https://localhost:8080/",
          "height": 34
        },
        "outputId": "b065600e-008f-4cf1-d68f-88d77adae2ba"
      },
      "cell_type": "code",
      "source": [
        "state = 1\n",
        "steps = list()\n",
        "steps.append(state)\n",
        "while state!=7:\n",
        "  next_state = np.where(Q[state,] == np.max(Q[state,]))[0]\n",
        "  \n",
        "  if len(next_state) > 1 :\n",
        "    next_state = np.random.choice(next_state)\n",
        "    \n",
        "  next_state = int(next_state)\n",
        "  \n",
        "  steps.append(next_state)\n",
        "  state = next_state\n",
        "  \n",
        "print(steps)"
      ],
      "execution_count": 203,
      "outputs": [
        {
          "output_type": "stream",
          "text": [
            "[1, 0, 3, 7]\n"
          ],
          "name": "stdout"
        }
      ]
    },
    {
      "metadata": {
        "id": "85rhVRiJf4Nl",
        "colab_type": "code",
        "colab": {
          "base_uri": "https://localhost:8080/",
          "height": 34
        },
        "outputId": "07f03341-c702-4c53-9591-0fdd93a5b3bb"
      },
      "cell_type": "code",
      "source": [
        "(np.where(Q[8,]== np.max(Q[8,]))[0])\n"
      ],
      "execution_count": 201,
      "outputs": [
        {
          "output_type": "execute_result",
          "data": {
            "text/plain": [
              "array([0])"
            ]
          },
          "metadata": {
            "tags": []
          },
          "execution_count": 201
        }
      ]
    }
  ]
}