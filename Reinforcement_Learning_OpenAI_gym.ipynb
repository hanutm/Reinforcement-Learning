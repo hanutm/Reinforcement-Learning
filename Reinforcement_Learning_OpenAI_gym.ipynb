{
  "nbformat": 4,
  "nbformat_minor": 0,
  "metadata": {
    "colab": {
      "name": "Reinforcement Learning - OpenAI gym",
      "version": "0.3.2",
      "provenance": [],
      "collapsed_sections": [],
      "include_colab_link": true
    },
    "kernelspec": {
      "name": "python3",
      "display_name": "Python 3"
    }
  },
  "cells": [
    {
      "cell_type": "markdown",
      "metadata": {
        "id": "view-in-github",
        "colab_type": "text"
      },
      "source": [
        "<a href=\"https://colab.research.google.com/github/hanutm/Reinforcement-Learning/blob/master/Reinforcement_Learning_OpenAI_gym.ipynb\" target=\"_parent\"><img src=\"https://colab.research.google.com/assets/colab-badge.svg\" alt=\"Open In Colab\"/></a>"
      ]
    },
    {
      "cell_type": "code",
      "metadata": {
        "id": "dZ-x1zrxzBq0",
        "colab_type": "code",
        "colab": {}
      },
      "source": [
        "##### Import and setup environment\n",
        "import gym\n",
        "env = gym.make(\"Taxi-v2\").env"
      ],
      "execution_count": 0,
      "outputs": []
    },
    {
      "cell_type": "code",
      "metadata": {
        "id": "_Gn7zHdKzNBw",
        "colab_type": "code",
        "outputId": "45668149-84a1-491b-aceb-b6275d96916a",
        "colab": {
          "base_uri": "https://localhost:8080/",
          "height": 153
        }
      },
      "source": [
        "#### Check current state\n",
        "env.render()"
      ],
      "execution_count": 14,
      "outputs": [
        {
          "output_type": "stream",
          "text": [
            "+---------+\n",
            "|R: | : :\u001b[35m\u001b[34;1mG\u001b[0m\u001b[0m|\n",
            "| :\u001b[43m \u001b[0m: : : |\n",
            "| : : : : |\n",
            "| | : | : |\n",
            "|Y| : |B: |\n",
            "+---------+\n",
            "\n"
          ],
          "name": "stdout"
        }
      ]
    },
    {
      "cell_type": "code",
      "metadata": {
        "id": "GAOxpx3c0Vvx",
        "colab_type": "code",
        "colab": {}
      },
      "source": [
        "##### Training by brute force (random actions)\n",
        "##### This code block executes a single episode\n",
        "env.s = 328\n",
        "\n",
        "epochs = 0\n",
        "penalties = 0\n",
        "reward = 0\n",
        "\n",
        "done = False\n",
        "\n",
        "while not done:\n",
        "  action = env.action_space.sample()\n",
        "  state, reward, done, info =  env.step(action)\n",
        "\n",
        "  if reward == -10 :\n",
        "    penalties += 1\n",
        "  epochs += 1\n"
      ],
      "execution_count": 0,
      "outputs": []
    },
    {
      "cell_type": "code",
      "metadata": {
        "id": "tChOkcoG-0pD",
        "colab_type": "code",
        "colab": {
          "base_uri": "https://localhost:8080/",
          "height": 51
        },
        "outputId": "c6ddd0f3-d83a-475b-bcbc-edf24c4eaeb0"
      },
      "source": [
        "print(\"Penalties : \",penalties)\n",
        "print(\"Steps taken : \",epochs)"
      ],
      "execution_count": 28,
      "outputs": [
        {
          "output_type": "stream",
          "text": [
            "Penalties :  58\n",
            "Steps taken :  256\n"
          ],
          "name": "stdout"
        }
      ]
    },
    {
      "cell_type": "code",
      "metadata": {
        "id": "9msiWwraYb0B",
        "colab_type": "code",
        "colab": {}
      },
      "source": [
        ""
      ],
      "execution_count": 0,
      "outputs": []
    }
  ]
}